{
  "nbformat": 4,
  "nbformat_minor": 0,
  "metadata": {
    "colab": {
      "name": "CS457_AST.ipynb",
      "version": "0.3.2",
      "provenance": [],
      "collapsed_sections": [],
      "include_colab_link": true
    },
    "kernelspec": {
      "name": "python3",
      "display_name": "Python 3"
    }
  },
  "cells": [
    {
      "cell_type": "markdown",
      "metadata": {
        "id": "view-in-github",
        "colab_type": "text"
      },
      "source": [
        "<a href=\"https://colab.research.google.com/github/mittalp0428/MachineLearning/blob/master/CS457_AST.ipynb\" target=\"_parent\"><img src=\"https://colab.research.google.com/assets/colab-badge.svg\" alt=\"Open In Colab\"/></a>"
      ]
    },
    {
      "cell_type": "code",
      "metadata": {
        "id": "NqD7tFb8CffW",
        "colab_type": "code",
        "outputId": "3a1b201e-ad69-4ac8-9024-487d8110ba27",
        "colab": {
          "base_uri": "https://localhost:8080/",
          "height": 34
        }
      },
      "source": [
        "import ast\n",
        "\n",
        "\n",
        "expression = 'a=b+c'\n",
        "#expression = '1+2*a'\n",
        "#expression = 'if(x>y)'\n",
        "\n",
        "tree = ast.parse (expression)\n",
        "print (ast.dump(tree))\n",
        "\n"
      ],
      "execution_count": 0,
      "outputs": [
        {
          "output_type": "stream",
          "text": [
            "Module(body=[Assign(targets=[Name(id='a', ctx=Store())], value=BinOp(left=Name(id='b', ctx=Load()), op=Add(), right=Name(id='c', ctx=Load())))])\n"
          ],
          "name": "stdout"
        }
      ]
    }
  ]
}